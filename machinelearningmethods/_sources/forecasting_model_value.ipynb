{
 "cells": [
  {
   "cell_type": "markdown",
   "id": "dba13355",
   "metadata": {},
   "source": [
    "# Forecasting the Business Value of a Model\n",
    "\n",
    "In this chapter  we look at how to frame and forecast the business value of a model\n",
    "\n",
    "(forecasting-biz-value-intro)=\n",
    "## Introduction and Motivations\n",
    "\n",
    "TODO\n",
    "\n",
    "## The Cost Matrix\n",
    "\n",
    "A cost benefit matrix is a 2x2 matrix describing the costs and benefits of how a classifier performs. \n",
    "\n",
    "[ todo: image of a confusion matrix ]\n",
    "\n",
    "\n",
    "* True Positive (TP): samples that were correctly classified\n",
    "* True Negative (TN): samples that were correctly classified\n",
    "* False Positive (FP): samples that were incorrectly classified\n",
    "* False Negative (FN): samples that were incorrectly classified\n",
    "\n",
    "[ todo: image of a cost benefit matrix ]"
   ]
  },
  {
   "cell_type": "code",
   "execution_count": 1,
   "id": "6c8ee340",
   "metadata": {
    "tags": [
     "output_scroll"
    ]
   },
   "outputs": [
    {
     "ename": "ModuleNotFoundError",
     "evalue": "No module named 'matplotlib'",
     "output_type": "error",
     "traceback": [
      "\u001b[0;31m---------------------------------------------------------------------------\u001b[0m",
      "\u001b[0;31mModuleNotFoundError\u001b[0m                       Traceback (most recent call last)",
      "\u001b[0;32m/var/folders/wd/5mwvr_hx3p5436myvcwcvk6w0000gn/T/ipykernel_30228/2866369948.py\u001b[0m in \u001b[0;36m<module>\u001b[0;34m\u001b[0m\n\u001b[0;32m----> 1\u001b[0;31m \u001b[0;32mimport\u001b[0m \u001b[0mmatplotlib\u001b[0m\u001b[0;34m.\u001b[0m\u001b[0mpyplot\u001b[0m \u001b[0;32mas\u001b[0m \u001b[0mplt\u001b[0m\u001b[0;34m\u001b[0m\u001b[0;34m\u001b[0m\u001b[0m\n\u001b[0m\u001b[1;32m      2\u001b[0m \u001b[0;32mfrom\u001b[0m \u001b[0msklearn\u001b[0m\u001b[0;34m.\u001b[0m\u001b[0mdatasets\u001b[0m \u001b[0;32mimport\u001b[0m \u001b[0mmake_classification\u001b[0m\u001b[0;34m\u001b[0m\u001b[0;34m\u001b[0m\u001b[0m\n\u001b[1;32m      3\u001b[0m \u001b[0;32mfrom\u001b[0m \u001b[0msklearn\u001b[0m\u001b[0;34m.\u001b[0m\u001b[0mmetrics\u001b[0m \u001b[0;32mimport\u001b[0m \u001b[0mplot_confusion_matrix\u001b[0m\u001b[0;34m\u001b[0m\u001b[0;34m\u001b[0m\u001b[0m\n\u001b[1;32m      4\u001b[0m \u001b[0;32mfrom\u001b[0m \u001b[0msklearn\u001b[0m\u001b[0;34m.\u001b[0m\u001b[0mmodel_selection\u001b[0m \u001b[0;32mimport\u001b[0m \u001b[0mtrain_test_split\u001b[0m\u001b[0;34m\u001b[0m\u001b[0;34m\u001b[0m\u001b[0m\n\u001b[1;32m      5\u001b[0m \u001b[0;32mfrom\u001b[0m \u001b[0msklearn\u001b[0m\u001b[0;34m.\u001b[0m\u001b[0msvm\u001b[0m \u001b[0;32mimport\u001b[0m \u001b[0mSVC\u001b[0m\u001b[0;34m\u001b[0m\u001b[0;34m\u001b[0m\u001b[0m\n",
      "\u001b[0;31mModuleNotFoundError\u001b[0m: No module named 'matplotlib'"
     ]
    }
   ],
   "source": [
    "import matplotlib.pyplot as plt  \n",
    "from sklearn.datasets import make_classification\n",
    "from sklearn.metrics import plot_confusion_matrix\n",
    "from sklearn.model_selection import train_test_split\n",
    "from sklearn.svm import SVC\n",
    "X, y = make_classification(random_state=0)\n",
    "X_train, X_test, y_train, y_test = train_test_split(\n",
    "        X, y, random_state=0)\n",
    "clf = SVC(random_state=0)\n",
    "clf.fit(X_train, y_train)\n",
    "\n",
    "plot_confusion_matrix(clf, X_test, y_test)  \n",
    "plt.show()  "
   ]
  },
  {
   "cell_type": "markdown",
   "id": "45199bdc",
   "metadata": {},
   "source": [
    "The foundation \n",
    "\n",
    "\n",
    "```python\n",
    "# Define cost-benefit matrix with input from business managers, other stakeholders, etc.\n",
    "# REDO THIS\n",
    "costbenefit_mat = np.array([[0, 0],\n",
    "                            [-150, 175]])\n",
    "```\n",
    "\n",
    "## Profit Curves\n",
    "\n",
    "TODO\n",
    "\n",
    "\n",
    "## Brainstorming\n",
    "\n",
    "* Forecasting the value of a dataset\n",
    "  * data value is a function of use case, cost matrix, and profit curves\n",
    "  * if we can forecast the value of a trained model for a line of business, can we take this valuation and build a data model?\n",
    "  * what if we built a valuation, and then begin progressively stripping out training data and re-training the model, each time measuring the drop in predictive value of the model\n",
    "  * we then could apply this value back to a generalized value curve (with a point of diminishing returns as it appoaches the full population of the data)\n",
    "\n",
    "\n",
    "## Further Reading and Other Resources\n",
    "\n",
    "* Cost-based optimization\n",
    "* Expected Value\n",
    "* Lift Curves"
   ]
  }
 ],
 "metadata": {
  "jupytext": {
   "formats": "md:myst",
   "text_representation": {
    "extension": ".md",
    "format_name": "myst"
   }
  },
  "kernelspec": {
   "display_name": "Python 3",
   "language": "python",
   "name": "python3"
  },
  "language_info": {
   "codemirror_mode": {
    "name": "ipython",
    "version": 3
   },
   "file_extension": ".py",
   "mimetype": "text/x-python",
   "name": "python",
   "nbconvert_exporter": "python",
   "pygments_lexer": "ipython3",
   "version": "3.7.11"
  },
  "source_map": [
   11,
   36,
   51
  ]
 },
 "nbformat": 4,
 "nbformat_minor": 5
}